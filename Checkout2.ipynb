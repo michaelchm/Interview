{
 "cells": [
  {
   "cell_type": "code",
   "execution_count": null,
   "metadata": {},
   "outputs": [],
   "source": [
    "product_dic={}"
   ]
  },
  {
   "cell_type": "code",
   "execution_count": null,
   "metadata": {},
   "outputs": [],
   "source": [
    "product_dic={}\n",
    "product_dic['ipd'] = {\n",
    "    'SKU': 'ipd',\n",
    "    'Name': 'Super iPad', \n",
    "    'Price': 549.99,\n",
    "    'Deal':'$499.99 each, if someone buys more than 4'}\n",
    "\n",
    "product_dic['mbp'] = {\n",
    "    'SKU': 'mbp',\n",
    "    'Name': 'MacBook Pro', \n",
    "    'Price': 1399.99,\n",
    "    'Deal': 'free VGA adapter with purchase'}\n",
    "\n",
    "product_dic['atv'] = {\n",
    "    'SKU': 'atv',\n",
    "    'Name': 'Apple TV', \n",
    "    'Price': 109.50,\n",
    "    'Deal': '3 for 2 deal'}\n",
    "\n",
    "product_dic['vga'] = {\n",
    "    'SKU': 'vga',\n",
    "    'Name': 'VGA adapter', \n",
    "    'Price': 30.00,\n",
    "    'Deal': 'No deals right now'}"
   ]
  },
  {
   "cell_type": "code",
   "execution_count": null,
   "metadata": {},
   "outputs": [],
   "source": [
    "print(\"Here are all the products:\")\n",
    "for key, value in product_dic.items():\n",
    "    print(value['Name'] + \" ---> \"+ value['SKU'] + \" ---> \" + str(value['Price']) + \"$\")"
   ]
  },
  {
   "cell_type": "code",
   "execution_count": null,
   "metadata": {},
   "outputs": [],
   "source": [
    "shopping_list = {}\n",
    "\n",
    "condition = input(\"Do you want to add an item to your cart?, TYPE yes or NO \")"
   ]
  },
  {
   "cell_type": "code",
   "execution_count": null,
   "metadata": {},
   "outputs": [],
   "source": [
    "while condition == 'yes':\n",
    "    product_input = input(\"Type SKU of the product you would like to add?\")\n",
    "    print((product_dic[product_input]['Name']))\n",
    "    \n",
    "    quantity_input = input(\"How many items would you like to purchase\")\n",
    "    quantity_input2 = float(quantity_input)\n",
    "    shopping_list[product_input]= (quantity_input2)\n",
    "    \n",
    "    condition = input(\"Are you adding another item, TYPE yes or NO \")\n",
    "\n",
    "    \n",
    "print(shopping_list)"
   ]
  },
  {
   "cell_type": "code",
   "execution_count": null,
   "metadata": {},
   "outputs": [],
   "source": [
    "def checkout(dictionary):\n",
    "    cost = 0\n",
    "    deductions = 0\n",
    "    for key, value in dictionary.items():\n",
    "        if key == 'ipd' and value > 4:\n",
    "            cost += 499.99* value\n",
    "        elif key == 'atv' and value == 3:\n",
    "            cost += product_dic[key]['Price']* 2\n",
    "        \n",
    "        elif key == 'mbp':\n",
    "            cost += (value * product_dic[key]['Price'])\n",
    "            shopping_list['vga'] = value\n",
    "            deductions += (value * 30)\n",
    "        else:\n",
    "            cost += value * product_dic[key]['Price']\n",
    "    print(\"Your shopping list: \")\n",
    "    print(shopping_list)\n",
    "    print(\"Total cost: \")\n",
    "    print(cost - deductions)"
   ]
  },
  {
   "cell_type": "code",
   "execution_count": null,
   "metadata": {},
   "outputs": [],
   "source": [
    "checkout(shopping_list)"
   ]
  },
  {
   "cell_type": "code",
   "execution_count": null,
   "metadata": {},
   "outputs": [],
   "source": []
  }
 ],
 "metadata": {
  "kernelspec": {
   "display_name": "Python 3",
   "language": "python",
   "name": "python3"
  },
  "language_info": {
   "codemirror_mode": {
    "name": "ipython",
    "version": 3
   },
   "file_extension": ".py",
   "mimetype": "text/x-python",
   "name": "python",
   "nbconvert_exporter": "python",
   "pygments_lexer": "ipython3",
   "version": "3.8.5"
  }
 },
 "nbformat": 4,
 "nbformat_minor": 4
}
